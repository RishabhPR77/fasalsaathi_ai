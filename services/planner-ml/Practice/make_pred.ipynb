{
 "cells": [
  {
   "cell_type": "code",
   "execution_count": 27,
   "id": "c6a2752d",
   "metadata": {},
   "outputs": [
    {
     "name": "stdout",
     "output_type": "stream",
     "text": [
      "Model loaded successfully!\n"
     ]
    }
   ],
   "source": [
    "import pandas as pd\n",
    "import joblib\n",
    "\n",
    "# 1. Load the saved, pre-trained model\n",
    "pipeline = joblib.load('final_crop_model.joblib')\n",
    "print(\"Model loaded successfully!\")"
   ]
  },
  {
   "cell_type": "code",
   "execution_count": 28,
   "id": "05486190",
   "metadata": {},
   "outputs": [],
   "source": [
    "# 2. Define the target columns in the EXACT SAME ORDER as during training\n",
    "# This is the crucial fix.\n",
    "targets = ['total_duration_estimate'] + \\\n",
    "          [f'{stage}_{metric}' for stage in ['sw', 'sd_e', 'tilrr', 'stel', 'btng', 'hdng', 'flwr', 'grnm', 'grnd', 'rpng', 'hrvst'] for metric in ['tmin', 'tmax', 'rh', 'rain', 'wind', 'solar_rad']] + \\\n",
    "          [f'{stage}_stage_dur' for stage in ['sw', 'sd_e', 'tilrr', 'stel', 'btng', 'hdng', 'flwr', 'grnm', 'grnd', 'rpng', 'hrvst']]\n",
    "\n"
   ]
  },
  {
   "cell_type": "code",
   "execution_count": 29,
   "id": "4b70113b",
   "metadata": {},
   "outputs": [],
   "source": [
    "# 2. Create a DataFrame with the new data for prediction\n",
    "# The column names must exactly match the ones used during training\n",
    "# Define the input data for the crop you want to predict\n",
    "new_data = pd.DataFrame({\n",
    "    'crop': ['Soybean'],\n",
    "    'seed_type': ['JS 9560'],\n",
    "    'soil': ['Medium Black (Vertisol)'],\n",
    "    'district': ['Indore'],\n",
    "    'season': ['Kharif']\n",
    "})"
   ]
  },
  {
   "cell_type": "code",
   "execution_count": 30,
   "id": "4fe396d3",
   "metadata": {},
   "outputs": [],
   "source": [
    "# 4. Use the model to make predictions\n",
    "predictions = pipeline.predict(new_data)"
   ]
  },
  {
   "cell_type": "code",
   "execution_count": 31,
   "id": "f4af50d9",
   "metadata": {},
   "outputs": [
    {
     "name": "stdout",
     "output_type": "stream",
     "text": [
      "\n",
      "✅ Success! Your prediction has been saved to the unique file: 'soybean_indore_20251006_183817.json'\n"
     ]
    }
   ],
   "source": [
    "import json\n",
    "\n",
    "from datetime import datetime\n",
    "results_df = pd.DataFrame(predictions, columns=targets)\n",
    "\n",
    "total_duration_pred = int(round(results_df['total_duration_estimate'].iloc[0]))\n",
    "prediction_details_dict = {}\n",
    "stages_codes = ['sw', 'sd_e', 'tilrr', 'stel', 'btng', 'hdng', 'flwr', 'grnm', 'grnd', 'rpng', 'hrvst']\n",
    "\n",
    "for stage in stages_codes:\n",
    "    prediction_details_dict[stage] = {\n",
    "        \"duration\": int(round(results_df[f'{stage}_stage_dur'].iloc[0])),\n",
    "        \"tmin\": results_df[f'{stage}_tmin'].iloc[0], \"tmax\": results_df[f'{stage}_tmax'].iloc[0],\n",
    "        \"rh\": int(round(results_df[f'{stage}_rh'].iloc[0])), \"rain\": results_df[f'{stage}_rain'].iloc[0],\n",
    "        \"wind\": results_df[f'{stage}_wind'].iloc[0], \"solar_rad\": int(round(results_df[f'{stage}_solar_rad'].iloc[0]))\n",
    "    }\n",
    "\n",
    "# --- Load Template and Populate with Prediction Data ---\n",
    "\n",
    "template_path = 'wheat_time_line_data.json'\n",
    "with open(template_path, 'r') as f:\n",
    "    data = json.load(f)\n",
    "\n",
    "stage_mapping = {\n",
    "    \"Sowing & Germination\": \"sw\", \"Seedling / Emergence\": \"sd_e\", \"Tillering\": \"tilrr\",\n",
    "    \"Stem Elongation\": \"stel\", \"Booting\": \"btng\", \"Heading\": \"hdng\", \"Flowering\": \"flwr\",\n",
    "    \"Grain Filling\": \"grnm\", \"Ripening\": \"rpng\", \"Harvest\": \"hrvst\"\n",
    "}\n",
    "\n",
    "data['crop'] = new_data['crop'].iloc[0]\n",
    "data['total_duration_days'] = total_duration_pred\n",
    "\n",
    "for stage in data['stages']:\n",
    "    stage_name = stage.get('name')\n",
    "    if stage_name in stage_mapping:\n",
    "        stage_code = stage_mapping[stage_name]\n",
    "        if stage_code in prediction_details_dict:\n",
    "            pred = prediction_details_dict[stage_code]\n",
    "            stage['forecasted'] = {}\n",
    "            stage['ideal'] = {\n",
    "                \"tmin_c\": [pred[\"tmin\"]], \"tmax_c\": [pred[\"tmax\"]], \"rh_pct\": [pred[\"rh\"]],\n",
    "                \"rain_mm\": [pred[\"rain\"]], \"wind_kmph\": [pred[\"wind\"]], \"solar_wm2\": [pred[\"solar_rad\"]]\n",
    "            }\n",
    "            stage['duration_days'] = pred[\"duration\"]\n",
    "\n",
    "# --- Create a Unique Filename and Save the JSON File ---\n",
    "\n",
    "# Get current time for the timestamp\n",
    "timestamp = datetime.now().strftime(\"%Y%m%d_%H%M%S\")\n",
    "crop_name = new_data['crop'].iloc[0].lower()\n",
    "district_name = new_data['district'].iloc[0].lower().replace(\" \", \"\")\n",
    "\n",
    "# Combine elements to create a unique, descriptive filename\n",
    "output_filename = f\"{crop_name}_{district_name}_{timestamp}.json\"\n",
    "\n",
    "with open(output_filename, 'w') as f:\n",
    "    json.dump(data, f, indent=2)\n",
    "\n",
    "print(f\"\\n✅ Success! Your prediction has been saved to the unique file: '{output_filename}'\")"
   ]
  }
 ],
 "metadata": {
  "kernelspec": {
   "display_name": "Python 3",
   "language": "python",
   "name": "python3"
  },
  "language_info": {
   "codemirror_mode": {
    "name": "ipython",
    "version": 3
   },
   "file_extension": ".py",
   "mimetype": "text/x-python",
   "name": "python",
   "nbconvert_exporter": "python",
   "pygments_lexer": "ipython3",
   "version": "3.12.10"
  }
 },
 "nbformat": 4,
 "nbformat_minor": 5
}
