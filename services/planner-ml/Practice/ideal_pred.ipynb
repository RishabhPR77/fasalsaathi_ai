{
 "cells": [
  {
   "cell_type": "code",
   "execution_count": 2,
   "id": "b9adb947",
   "metadata": {},
   "outputs": [
    {
     "name": "stdout",
     "output_type": "stream",
     "text": [
      "✅ Dataset loaded successfully!\n"
     ]
    }
   ],
   "source": [
    "import pandas as pd\n",
    "from sklearn.compose import ColumnTransformer\n",
    "from sklearn.pipeline import Pipeline\n",
    "from sklearn.preprocessing import OneHotEncoder\n",
    "from sklearn.multioutput import RegressorChain\n",
    "import xgboost as xgb\n",
    "import joblib # Library for saving your model\n",
    "\n",
    "# Load the dataset\n",
    "df = pd.read_csv('mp_agriculture_stagewise_10000rows_district_season.csv')\n",
    "print(\"✅ Dataset loaded successfully!\")"
   ]
  },
  {
   "cell_type": "code",
   "execution_count": 3,
   "id": "905c1f31",
   "metadata": {},
   "outputs": [
    {
     "name": "stdout",
     "output_type": "stream",
     "text": [
      "⚙️ Number of features: 5\n",
      "🎯 Total number of targets to predict: 78\n"
     ]
    }
   ],
   "source": [
    "# Features are the categorical descriptors\n",
    "features = ['crop', 'seed_type', 'soil', 'district', 'season']\n",
    "\n",
    "# Find all columns for our targets\n",
    "environmental_targets = [col for col in df.columns if col.endswith(('_tmin', '_tmax', '_rh', '_rain', '_wind', '_solar_rad'))]\n",
    "stage_duration_targets = [col for col in df.columns if col.endswith('_stage_dur')]\n",
    "\n",
    "# Combine all target columns into one list\n",
    "targets = ['total_duration_estimate'] + environmental_targets + stage_duration_targets\n",
    "\n",
    "# Create our feature matrix (X) and target matrix (Y)\n",
    "X = df[features]\n",
    "Y = df[targets]\n",
    "\n",
    "print(f\"⚙️ Number of features: {X.shape[1]}\")\n",
    "print(f\"🎯 Total number of targets to predict: {Y.shape[1]}\")"
   ]
  },
  {
   "cell_type": "code",
   "execution_count": 4,
   "id": "0e3b3223",
   "metadata": {},
   "outputs": [],
   "source": [
    "# Preprocessor for our categorical input features\n",
    "preprocessor = ColumnTransformer(\n",
    "    transformers=[\n",
    "        ('cat', OneHotEncoder(handle_unknown='ignore'), features)\n",
    "    ]\n",
    ")\n",
    "\n",
    "# Define the base XGBoost model\n",
    "base_model = xgb.XGBRegressor(\n",
    "    n_estimators=100,\n",
    "    learning_rate=0.1,\n",
    "    max_depth=5,\n",
    "    random_state=42,\n",
    "    n_jobs=-1\n",
    ")\n",
    "\n",
    "# Wrap the base model in Regressor Chain to handle all targets\n",
    "final_model = RegressorChain(base_estimator=base_model)\n",
    "\n",
    "pipeline = Pipeline(steps=[\n",
    "    ('preprocessor', preprocessor),\n",
    "    ('regressor', final_model)\n",
    "])"
   ]
  },
  {
   "cell_type": "code",
   "execution_count": 5,
   "id": "9dc683c7",
   "metadata": {},
   "outputs": [
    {
     "name": "stdout",
     "output_type": "stream",
     "text": [
      "\n",
      "🚀 Training the final RegressorChain model on all data...\n",
      "✅ Final model training complete!\n"
     ]
    }
   ],
   "source": [
    "print(\"\\n🚀 Training the final RegressorChain model on all data...\")\n",
    "pipeline.fit(X, Y)\n",
    "print(\"✅ Final model training complete!\")"
   ]
  },
  {
   "cell_type": "code",
   "execution_count": 6,
   "id": "54291210",
   "metadata": {},
   "outputs": [
    {
     "name": "stdout",
     "output_type": "stream",
     "text": [
      "\n",
      "💾 Model has been saved to 'final_crop_model.joblib' and is ready for future predictions.\n"
     ]
    }
   ],
   "source": [
    "# --- 5) Save the Trained Model for Future Use ---\n",
    "joblib.dump(pipeline, 'final_crop_model.joblib')\n",
    "print(\"\\n💾 Model has been saved to 'final_crop_model.joblib' and is ready for future predictions.\")"
   ]
  }
 ],
 "metadata": {
  "kernelspec": {
   "display_name": "Python 3",
   "language": "python",
   "name": "python3"
  },
  "language_info": {
   "codemirror_mode": {
    "name": "ipython",
    "version": 3
   },
   "file_extension": ".py",
   "mimetype": "text/x-python",
   "name": "python",
   "nbconvert_exporter": "python",
   "pygments_lexer": "ipython3",
   "version": "3.12.10"
  }
 },
 "nbformat": 4,
 "nbformat_minor": 5
}
